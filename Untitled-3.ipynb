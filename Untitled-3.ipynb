{
 "cells": [
  {
   "cell_type": "code",
   "execution_count": 23,
   "metadata": {},
   "outputs": [],
   "source": [
    "import pandas as pd\n",
    "import matplotlib.pyplot as plt\n",
    "from pyais import decode"
   ]
  },
  {
   "cell_type": "code",
   "execution_count": 12,
   "metadata": {},
   "outputs": [
    {
     "name": "stderr",
     "output_type": "stream",
     "text": [
      "<>:1: SyntaxWarning: invalid escape sequence '\\A'\n",
      "<>:1: SyntaxWarning: invalid escape sequence '\\A'\n",
      "C:\\Users\\HP 1000\\AppData\\Local\\Temp\\ipykernel_6576\\3019128940.py:1: SyntaxWarning: invalid escape sequence '\\A'\n",
      "  rbs = pd.read_csv('F:\\Analis\\Broject/rbsais_mar.csv')\n"
     ]
    }
   ],
   "source": [
    "rbs = pd.read_csv('F:\\Analis\\Broject/rbsais_mar.csv')"
   ]
  },
  {
   "cell_type": "code",
   "execution_count": 13,
   "metadata": {},
   "outputs": [
    {
     "name": "stdout",
     "output_type": "stream",
     "text": [
      "                                            raw_mesg\n",
      "0  !AIVDM,1,1,,B,15Rf`h0000`40PCspH2cJlep2l3Q,0*7...\n",
      "1  !AIVDM,1,1,,B,17lcQJ0P00`3wO1spI6b=wvr2<3p,0*1...\n",
      "2  !AIVDM,1,1,,A,17ldw=P000840Tisp8E;TbPt0<2K,0*2...\n",
      "3  !AIVDM,1,1,,B,177cBj000083sQaspMBBBHk40D2F,0*0...\n",
      "4  !AIVDM,1,1,,A,17loeDp02;83ee3ss7VFo5Q20<4B,0*1...\n"
     ]
    }
   ],
   "source": [
    "print(rbs.head())"
   ]
  },
  {
   "cell_type": "code",
   "execution_count": null,
   "metadata": {},
   "outputs": [],
   "source": []
  }
 ],
 "metadata": {
  "kernelspec": {
   "display_name": "Python 3",
   "language": "python",
   "name": "python3"
  },
  "language_info": {
   "codemirror_mode": {
    "name": "ipython",
    "version": 3
   },
   "file_extension": ".py",
   "mimetype": "text/x-python",
   "name": "python",
   "nbconvert_exporter": "python",
   "pygments_lexer": "ipython3",
   "version": "3.12.3"
  }
 },
 "nbformat": 4,
 "nbformat_minor": 2
}
